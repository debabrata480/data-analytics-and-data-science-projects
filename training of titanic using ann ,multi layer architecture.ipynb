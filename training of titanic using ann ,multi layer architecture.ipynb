{
 "cells": [
  {
   "cell_type": "code",
   "execution_count": 1,
   "id": "3168f842-ee95-49ea-b590-846619e81418",
   "metadata": {},
   "outputs": [],
   "source": [
    "import pandas as pd\n",
    "import numpy as np\n",
    "\n",
    "import matplotlib.pyplot as plt\n",
    "import seaborn as sns\n",
    "%matplotlib inline\n",
    "\n",
    "sns.set(rc={'figure.figsize':(12,10)})\n",
    "\n",
    "import warnings\n",
    "warnings.filterwarnings(\"ignore\")"
   ]
  },
  {
   "cell_type": "code",
   "execution_count": 2,
   "id": "953c8d03-40ef-4d06-b53d-215732356be3",
   "metadata": {},
   "outputs": [],
   "source": [
    "import random \n",
    "random.seed(0)"
   ]
  },
  {
   "cell_type": "code",
   "execution_count": 3,
   "id": "80c12555-94c1-4c38-88d4-cd8cf743be62",
   "metadata": {},
   "outputs": [],
   "source": [
    "data=pd.read_csv(\"C:\\\\Users\\\\ASUS\\\\Desktop\\\\ml geeks\\\\titanic\\\\titanic_data.csv\")"
   ]
  },
  {
   "cell_type": "code",
   "execution_count": 4,
   "id": "e19c8f74-6c41-4785-a350-61dd2d29f2ec",
   "metadata": {},
   "outputs": [
    {
     "data": {
      "text/html": [
       "<div>\n",
       "<style scoped>\n",
       "    .dataframe tbody tr th:only-of-type {\n",
       "        vertical-align: middle;\n",
       "    }\n",
       "\n",
       "    .dataframe tbody tr th {\n",
       "        vertical-align: top;\n",
       "    }\n",
       "\n",
       "    .dataframe thead th {\n",
       "        text-align: right;\n",
       "    }\n",
       "</style>\n",
       "<table border=\"1\" class=\"dataframe\">\n",
       "  <thead>\n",
       "    <tr style=\"text-align: right;\">\n",
       "      <th></th>\n",
       "      <th>PassengerId</th>\n",
       "      <th>Survived</th>\n",
       "      <th>Pclass</th>\n",
       "      <th>Name</th>\n",
       "      <th>Sex</th>\n",
       "      <th>Age</th>\n",
       "      <th>SibSp</th>\n",
       "      <th>Parch</th>\n",
       "      <th>Ticket</th>\n",
       "      <th>Fare</th>\n",
       "      <th>Cabin</th>\n",
       "      <th>Embarked</th>\n",
       "    </tr>\n",
       "  </thead>\n",
       "  <tbody>\n",
       "    <tr>\n",
       "      <th>0</th>\n",
       "      <td>1</td>\n",
       "      <td>0</td>\n",
       "      <td>3</td>\n",
       "      <td>Braund, Mr. Owen Harris</td>\n",
       "      <td>male</td>\n",
       "      <td>22.0</td>\n",
       "      <td>1</td>\n",
       "      <td>0</td>\n",
       "      <td>A/5 21171</td>\n",
       "      <td>7.2500</td>\n",
       "      <td>NaN</td>\n",
       "      <td>S</td>\n",
       "    </tr>\n",
       "    <tr>\n",
       "      <th>1</th>\n",
       "      <td>2</td>\n",
       "      <td>1</td>\n",
       "      <td>1</td>\n",
       "      <td>Cumings, Mrs. John Bradley (Florence Briggs Th...</td>\n",
       "      <td>female</td>\n",
       "      <td>38.0</td>\n",
       "      <td>1</td>\n",
       "      <td>0</td>\n",
       "      <td>PC 17599</td>\n",
       "      <td>71.2833</td>\n",
       "      <td>C85</td>\n",
       "      <td>C</td>\n",
       "    </tr>\n",
       "    <tr>\n",
       "      <th>2</th>\n",
       "      <td>3</td>\n",
       "      <td>1</td>\n",
       "      <td>3</td>\n",
       "      <td>Heikkinen, Miss. Laina</td>\n",
       "      <td>female</td>\n",
       "      <td>26.0</td>\n",
       "      <td>0</td>\n",
       "      <td>0</td>\n",
       "      <td>STON/O2. 3101282</td>\n",
       "      <td>7.9250</td>\n",
       "      <td>NaN</td>\n",
       "      <td>S</td>\n",
       "    </tr>\n",
       "    <tr>\n",
       "      <th>3</th>\n",
       "      <td>4</td>\n",
       "      <td>1</td>\n",
       "      <td>1</td>\n",
       "      <td>Futrelle, Mrs. Jacques Heath (Lily May Peel)</td>\n",
       "      <td>female</td>\n",
       "      <td>35.0</td>\n",
       "      <td>1</td>\n",
       "      <td>0</td>\n",
       "      <td>113803</td>\n",
       "      <td>53.1000</td>\n",
       "      <td>C123</td>\n",
       "      <td>S</td>\n",
       "    </tr>\n",
       "    <tr>\n",
       "      <th>4</th>\n",
       "      <td>5</td>\n",
       "      <td>0</td>\n",
       "      <td>3</td>\n",
       "      <td>Allen, Mr. William Henry</td>\n",
       "      <td>male</td>\n",
       "      <td>35.0</td>\n",
       "      <td>0</td>\n",
       "      <td>0</td>\n",
       "      <td>373450</td>\n",
       "      <td>8.0500</td>\n",
       "      <td>NaN</td>\n",
       "      <td>S</td>\n",
       "    </tr>\n",
       "  </tbody>\n",
       "</table>\n",
       "</div>"
      ],
      "text/plain": [
       "   PassengerId  Survived  Pclass  \\\n",
       "0            1         0       3   \n",
       "1            2         1       1   \n",
       "2            3         1       3   \n",
       "3            4         1       1   \n",
       "4            5         0       3   \n",
       "\n",
       "                                                Name     Sex   Age  SibSp  \\\n",
       "0                            Braund, Mr. Owen Harris    male  22.0      1   \n",
       "1  Cumings, Mrs. John Bradley (Florence Briggs Th...  female  38.0      1   \n",
       "2                             Heikkinen, Miss. Laina  female  26.0      0   \n",
       "3       Futrelle, Mrs. Jacques Heath (Lily May Peel)  female  35.0      1   \n",
       "4                           Allen, Mr. William Henry    male  35.0      0   \n",
       "\n",
       "   Parch            Ticket     Fare Cabin Embarked  \n",
       "0      0         A/5 21171   7.2500   NaN        S  \n",
       "1      0          PC 17599  71.2833   C85        C  \n",
       "2      0  STON/O2. 3101282   7.9250   NaN        S  \n",
       "3      0            113803  53.1000  C123        S  \n",
       "4      0            373450   8.0500   NaN        S  "
      ]
     },
     "execution_count": 4,
     "metadata": {},
     "output_type": "execute_result"
    }
   ],
   "source": [
    "data.head()"
   ]
  },
  {
   "cell_type": "code",
   "execution_count": 5,
   "id": "b1f06963-333e-4b22-a311-edb7be9cdc07",
   "metadata": {},
   "outputs": [
    {
     "name": "stdout",
     "output_type": "stream",
     "text": [
      "<class 'pandas.core.frame.DataFrame'>\n",
      "RangeIndex: 891 entries, 0 to 890\n",
      "Data columns (total 12 columns):\n",
      " #   Column       Non-Null Count  Dtype  \n",
      "---  ------       --------------  -----  \n",
      " 0   PassengerId  891 non-null    int64  \n",
      " 1   Survived     891 non-null    int64  \n",
      " 2   Pclass       891 non-null    int64  \n",
      " 3   Name         891 non-null    object \n",
      " 4   Sex          891 non-null    object \n",
      " 5   Age          714 non-null    float64\n",
      " 6   SibSp        891 non-null    int64  \n",
      " 7   Parch        891 non-null    int64  \n",
      " 8   Ticket       891 non-null    object \n",
      " 9   Fare         891 non-null    float64\n",
      " 10  Cabin        204 non-null    object \n",
      " 11  Embarked     889 non-null    object \n",
      "dtypes: float64(2), int64(5), object(5)\n",
      "memory usage: 83.7+ KB\n"
     ]
    }
   ],
   "source": [
    "data.info()"
   ]
  },
  {
   "cell_type": "code",
   "execution_count": 6,
   "id": "aea40808-dce0-4fe1-8bbf-5a41298393b6",
   "metadata": {},
   "outputs": [],
   "source": [
    "#here we are going to get two parameters as Pclass and Sex"
   ]
  },
  {
   "cell_type": "code",
   "execution_count": 7,
   "id": "04db10c1-f035-48e4-a24f-cce68555a7e0",
   "metadata": {},
   "outputs": [],
   "source": [
    "dict_live={\n",
    " 0:\"Died\",\n",
    " 1:\"Survived\"   \n",
    "}\n",
    "\n",
    "dict_sex={\n",
    "    'male':0,\n",
    "    'female':1\n",
    "}\n",
    "\n",
    "data['Bsex']=data['Sex'].apply(lambda x:dict_sex[x])\n",
    "#features\n",
    "\n",
    "features=data[['Pclass','Bsex']]\n"
   ]
  },
  {
   "cell_type": "code",
   "execution_count": 8,
   "id": "624524e3-659e-46c7-b1d8-96b549807796",
   "metadata": {},
   "outputs": [
    {
     "data": {
      "text/html": [
       "<div>\n",
       "<style scoped>\n",
       "    .dataframe tbody tr th:only-of-type {\n",
       "        vertical-align: middle;\n",
       "    }\n",
       "\n",
       "    .dataframe tbody tr th {\n",
       "        vertical-align: top;\n",
       "    }\n",
       "\n",
       "    .dataframe thead th {\n",
       "        text-align: right;\n",
       "    }\n",
       "</style>\n",
       "<table border=\"1\" class=\"dataframe\">\n",
       "  <thead>\n",
       "    <tr style=\"text-align: right;\">\n",
       "      <th></th>\n",
       "      <th>Pclass</th>\n",
       "      <th>Bsex</th>\n",
       "    </tr>\n",
       "  </thead>\n",
       "  <tbody>\n",
       "    <tr>\n",
       "      <th>0</th>\n",
       "      <td>3</td>\n",
       "      <td>0</td>\n",
       "    </tr>\n",
       "    <tr>\n",
       "      <th>1</th>\n",
       "      <td>1</td>\n",
       "      <td>1</td>\n",
       "    </tr>\n",
       "    <tr>\n",
       "      <th>2</th>\n",
       "      <td>3</td>\n",
       "      <td>1</td>\n",
       "    </tr>\n",
       "    <tr>\n",
       "      <th>3</th>\n",
       "      <td>1</td>\n",
       "      <td>1</td>\n",
       "    </tr>\n",
       "    <tr>\n",
       "      <th>4</th>\n",
       "      <td>3</td>\n",
       "      <td>0</td>\n",
       "    </tr>\n",
       "    <tr>\n",
       "      <th>...</th>\n",
       "      <td>...</td>\n",
       "      <td>...</td>\n",
       "    </tr>\n",
       "    <tr>\n",
       "      <th>886</th>\n",
       "      <td>2</td>\n",
       "      <td>0</td>\n",
       "    </tr>\n",
       "    <tr>\n",
       "      <th>887</th>\n",
       "      <td>1</td>\n",
       "      <td>1</td>\n",
       "    </tr>\n",
       "    <tr>\n",
       "      <th>888</th>\n",
       "      <td>3</td>\n",
       "      <td>1</td>\n",
       "    </tr>\n",
       "    <tr>\n",
       "      <th>889</th>\n",
       "      <td>1</td>\n",
       "      <td>0</td>\n",
       "    </tr>\n",
       "    <tr>\n",
       "      <th>890</th>\n",
       "      <td>3</td>\n",
       "      <td>0</td>\n",
       "    </tr>\n",
       "  </tbody>\n",
       "</table>\n",
       "<p>891 rows × 2 columns</p>\n",
       "</div>"
      ],
      "text/plain": [
       "     Pclass  Bsex\n",
       "0         3     0\n",
       "1         1     1\n",
       "2         3     1\n",
       "3         1     1\n",
       "4         3     0\n",
       "..      ...   ...\n",
       "886       2     0\n",
       "887       1     1\n",
       "888       3     1\n",
       "889       1     0\n",
       "890       3     0\n",
       "\n",
       "[891 rows x 2 columns]"
      ]
     },
     "execution_count": 8,
     "metadata": {},
     "output_type": "execute_result"
    }
   ],
   "source": [
    "features"
   ]
  },
  {
   "cell_type": "code",
   "execution_count": 9,
   "id": "e3c082dd-55d5-4c86-8b87-1987a9af8b6b",
   "metadata": {},
   "outputs": [],
   "source": [
    "labels=data['Survived'].to_numpy()\n",
    "features=data[['Pclass','Bsex']].to_numpy()"
   ]
  },
  {
   "cell_type": "markdown",
   "id": "a891c6d5-aae4-46a5-8ed2-c7bf47d54f69",
   "metadata": {},
   "source": [
    "## Splitting of the Data"
   ]
  },
  {
   "cell_type": "code",
   "execution_count": 10,
   "id": "6b7c8951-f3c9-4ef4-82fc-96411f0001b8",
   "metadata": {},
   "outputs": [],
   "source": [
    "from sklearn.model_selection import train_test_split\n",
    "xtrain,xtest,ytrain,ytest=train_test_split(features,labels,test_size=0.30,random_state=0)"
   ]
  },
  {
   "cell_type": "markdown",
   "id": "399ffe99-594a-48dd-8250-a780730e6d74",
   "metadata": {},
   "source": [
    "# Multi_Layer Perceptron"
   ]
  },
  {
   "cell_type": "markdown",
   "id": "7936e887-4323-4acb-babc-072681cf8da0",
   "metadata": {},
   "source": [
    " ### Activation function and Derivation"
   ]
  },
  {
   "cell_type": "code",
   "execution_count": 11,
   "id": "9a9f1f8d-cffb-4439-af36-fda2a0a279c7",
   "metadata": {},
   "outputs": [],
   "source": [
    "# sigmoid\n",
    "def Sigmoid(x,derivative=False):\n",
    "    if derivative==True:\n",
    "        f=1/(1+np.exp(-x))*(1-1/(1+np.exp(-x)))\n",
    "    else:\n",
    "        f=1/(1+np.exp(-x))\n",
    "    return f\n",
    "def ReLU(x,derivative=False):\n",
    "    if derivative==True:\n",
    "        f=np.heaviside(x,1)\n",
    "    else:\n",
    "        f=np.maximum(x,0)\n",
    "\n",
    "    return f"
   ]
  },
  {
   "cell_type": "markdown",
   "id": "00e16703-17df-4ed0-b321-b00e6bc3ee0f",
   "metadata": {},
   "source": [
    "### Training Model"
   ]
  },
  {
   "cell_type": "code",
   "execution_count": 79,
   "id": "fdeed005-8294-4fc3-bc5b-ea943cf2ddcd",
   "metadata": {},
   "outputs": [],
   "source": [
    "def train_ANN(xtrain,ytrain,h1_units=4,h2_units=4,learning_rate=0.0015):\n",
    "    random.seed(101)\n",
    "      \n",
    "    #hidden layer 1\n",
    "    w1=2*np.random.rand(h1_units,xtrain.shape[1])\n",
    "    b1=np.random.rand(h1_units)\n",
    "\n",
    "    #hidden layer 2\n",
    "    w2=2*np.random.rand(h2_units,h1_units)\n",
    "    b2=np.random.rand(h2_units)\n",
    "\n",
    "    #output layer \n",
    "    w_out=2*np.random.rand(h2_units)\n",
    "    b_out=np.random.rand(1)\n",
    "\n",
    "    loss=[]\n",
    "    vec_y=[]\n",
    "    for i in range(0,xtrain.shape[0]):\n",
    "        x_data=xtrain[i]\n",
    "        #2. Feed forward\n",
    "\n",
    "        h1=ReLU(np.dot(w1,x_data)+b1) # hidden layer 1 output\n",
    "        h2=ReLU(np.dot(w2,h1)+b2)  # hidden layer 2 output\n",
    "        y=Sigmoid(np.dot(w_out,h2)+b_out) #output of the output layer\n",
    "\n",
    "        # 3 Backpropagate- calculater the layer derivatives\n",
    "        delta_out=(y-ytrain[i])*Sigmoid(y,derivative=True)\n",
    "        delta_2=delta_out*w_out*ReLU(h2,derivative=True)\n",
    "        delta_1=np.dot(delta_2,w2)*ReLU(h1,derivative=True)\n",
    "\n",
    "        \n",
    "       #4 Gradient descent\n",
    "        w_out=w_out-learning_rate * delta_out * h2 # output layer\n",
    "        b_out=b_out-learning_rate* delta_out\n",
    "\n",
    "       # hidden layer 2\n",
    "        w2=w2 -learning_rate* np.kron(delta_2,h1).reshape(h2_units,h1_units)\n",
    "        b2=b2-learning_rate*delta_2\n",
    "\n",
    "       \n",
    "       # hidden layer 1\n",
    "        w1=w1 -learning_rate* np.kron(delta_1,x_data).reshape(h1_units,x_data.shape[0])\n",
    "        b1=b1-learning_rate*delta_1\n",
    "      # cost\n",
    "        loss.append((1/2)*(y-ytrain[i])**2)\n",
    "        vec_y.append(y[0])\n",
    "\n",
    "    batch_loss=[]\n",
    "    for i in range(0,10):\n",
    "       loss_avg=0\n",
    "       for m in range(0,60):\n",
    "           loss_avg+=vec_y[60*i+m]/60\n",
    "       batch_loss.append(loss_avg)\n",
    "       \n",
    "    plt.figure(figsize=(10,6))\n",
    "    plt.plot(np.arange(1,len(batch_loss)+1),batch_loss)\n",
    "    plt.title('Average Loss by epoch',fontsize=20)\n",
    "    plt.xlabel('Epoch',fontsize=16)\n",
    "    plt.ylabel('Loss',fontsize=16)\n",
    "    plt.show()\n",
    "    return w1,b1,w2,b2,w_out,b_out,loss"
   ]
  },
  {
   "cell_type": "code",
   "execution_count": 80,
   "id": "76bcced2-b234-420c-a97d-8cac02364904",
   "metadata": {},
   "outputs": [
    {
     "data": {
      "image/png": "[encoded data removed]",
      "text/plain": [
       "<Figure size 1000x600 with 1 Axes>"
      ]
     },
     "metadata": {},
     "output_type": "display_data"
    }
   ],
   "source": [
    "w1,b1,w2,b2,w_out,b_out,loss=train_ANN(xtrain,ytrain)"
   ]
  },
  {
   "cell_type": "markdown",
   "id": "ecaec823-9ab1-4026-860e-688a1db3f138",
   "metadata": {},
   "source": [
    "### testing module"
   ]
  },
  {
   "cell_type": "code",
   "execution_count": 81,
   "id": "d0a46e54-c5ef-48a9-8c0a-e978c3655093",
   "metadata": {},
   "outputs": [],
   "source": [
    "def ANN_pred(xtest,w1,b1,w2,b2,w_out,b_out):\n",
    "    pred=[]\n",
    "    for i in range(0, xtest.shape[0]):\n",
    "        x=xtest[i]\n",
    "        #2.feed Forward\n",
    "        z1=ReLU(np.dot(w1,x)+b1) # hidden layer 1 output\n",
    "        z2=ReLU(np.dot(w2,z1)+b2)  # hidden layer 2 output\n",
    "        y=Sigmoid(np.dot(w_out,z2)+b_out) #output of the output layer\n",
    "\n",
    "        pred.append(np.heaviside(y-0.5,1)[0])\n",
    "\n",
    "    return np.array(pred)"
   ]
  },
  {
   "cell_type": "code",
   "execution_count": 82,
   "id": "0ffed70f-2397-4eeb-9afc-925965223364",
   "metadata": {},
   "outputs": [],
   "source": [
    "predictions=ANN_pred(xtest,w1,b1,w2,b2,w_out,b_out)"
   ]
  },
  {
   "cell_type": "markdown",
   "id": "146c18e6-17f7-479c-a3e2-a48c1fb5e58d",
   "metadata": {},
   "source": [
    "## Model Evaluation"
   ]
  },
  {
   "cell_type": "code",
   "execution_count": 83,
   "id": "7af3763f-2c91-4e0f-a7bd-2675d9be3371",
   "metadata": {},
   "outputs": [],
   "source": [
    "from sklearn.metrics import accuracy_score,confusion_matrix\n",
    "cm=confusion_matrix(ytest,predictions)\n",
    "acc=accuracy_score(ytest,predictions)"
   ]
  },
  {
   "cell_type": "code",
   "execution_count": 84,
   "id": "9792ab95-f5e1-43be-89dc-131631071188",
   "metadata": {},
   "outputs": [
    {
     "data": {
      "text/plain": [
       "array([[119,  49],\n",
       "       [ 16,  84]], dtype=int64)"
      ]
     },
     "execution_count": 84,
     "metadata": {},
     "output_type": "execute_result"
    }
   ],
   "source": [
    "cm"
   ]
  },
  {
   "cell_type": "code",
   "execution_count": 85,
   "id": "c70f0e08-9f6c-4bbd-bc02-da7cbf36f261",
   "metadata": {},
   "outputs": [
    {
     "data": {
      "text/plain": [
       "0.7574626865671642"
      ]
     },
     "execution_count": 85,
     "metadata": {},
     "output_type": "execute_result"
    }
   ],
   "source": [
    "acc"
   ]
  },
  {
   "cell_type": "code",
   "execution_count": 86,
   "id": "3191f155-e4f6-411b-9f9b-6ba1eec65e39",
   "metadata": {},
   "outputs": [],
   "source": [
    "df_cm=pd.DataFrame(cm,index=[dict_live[i] for i in range(0,2)],columns=[dict_live[i] for i in range(0,2)])"
   ]
  },
  {
   "cell_type": "code",
   "execution_count": 87,
   "id": "702ed068-1423-482d-9b9d-a6dfb44d83cf",
   "metadata": {},
   "outputs": [
    {
     "data": {
      "text/html": [
       "<div>\n",
       "<style scoped>\n",
       "    .dataframe tbody tr th:only-of-type {\n",
       "        vertical-align: middle;\n",
       "    }\n",
       "\n",
       "    .dataframe tbody tr th {\n",
       "        vertical-align: top;\n",
       "    }\n",
       "\n",
       "    .dataframe thead th {\n",
       "        text-align: right;\n",
       "    }\n",
       "</style>\n",
       "<table border=\"1\" class=\"dataframe\">\n",
       "  <thead>\n",
       "    <tr style=\"text-align: right;\">\n",
       "      <th></th>\n",
       "      <th>Died</th>\n",
       "      <th>Survived</th>\n",
       "    </tr>\n",
       "  </thead>\n",
       "  <tbody>\n",
       "    <tr>\n",
       "      <th>Died</th>\n",
       "      <td>119</td>\n",
       "      <td>49</td>\n",
       "    </tr>\n",
       "    <tr>\n",
       "      <th>Survived</th>\n",
       "      <td>16</td>\n",
       "      <td>84</td>\n",
       "    </tr>\n",
       "  </tbody>\n",
       "</table>\n",
       "</div>"
      ],
      "text/plain": [
       "          Died  Survived\n",
       "Died       119        49\n",
       "Survived    16        84"
      ]
     },
     "execution_count": 87,
     "metadata": {},
     "output_type": "execute_result"
    }
   ],
   "source": [
    "df_cm"
   ]
  },
  {
   "cell_type": "code",
   "execution_count": null,
   "id": "0a289195-c991-48b2-aff4-38a833eb466b",
   "metadata": {},
   "outputs": [],
   "source": []
  }
 ],
 "metadata": {
  "kernelspec": {
   "display_name": "Python 3 (ipykernel)",
   "language": "python",
   "name": "python3"
  },
  "language_info": {
   "codemirror_mode": {
    "name": "ipython",
    "version": 3
   },
   "file_extension": ".py",
   "mimetype": "text/x-python",
   "name": "python",
   "nbconvert_exporter": "python",
   "pygments_lexer": "ipython3",
   "version": "3.12.1"
  }
 },
 "nbformat": 4,
 "nbformat_minor": 5
}
